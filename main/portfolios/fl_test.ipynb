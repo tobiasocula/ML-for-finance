{
 "cells": [
  {
   "cell_type": "markdown",
   "id": "3f7ea4b9",
   "metadata": {},
   "source": [
    "https://www.youtube.com/watch?v=3AZDaTN2sCI"
   ]
  },
  {
   "cell_type": "markdown",
   "id": "ce3d03ee",
   "metadata": {},
   "source": [
    "$b_k(r_t)=\\mathbb{P}(r_t|s_t=k)=\\phi(r_t|\\mu_k,\\Sigma_k)$  \n",
    "where $\\phi$ is the PDF of the multivariable normal distribution, or  \n",
    "$b_k(r_t)=\\frac{1}{\\sqrt{(2\\pi)^N\\text{det}(\\Sigma_k)}}\\text{exp}(-\\frac{1}{2}(r_t-\\mu_k)^T\\Sigma_{k}^{-1}(r_t-\\mu_k))$  \n",
    "We will actually calculate the log of this function:  \n",
    "log $b_k(r_t)=-\\frac{1}{2}(N\\text{log}(2\\pi)+\\text{log}(\\text{det}(\\Sigma))+(r_t-\\mu_k)^T\\Sigma^{-1}(r_t-\\mu_k))$  \n",
    "However, because the computation for $\\Sigma_{k}^{-1}$ is numerically expensive, we will follow a different approach:  \n",
    "We will use the Cholesky decomposition for the matrix $\\Sigma$ (since this is positive-definite and symmetric), so we have $\\Sigma_k=LL^T$. Then the term $(r_t-\\mu_k)^T\\Sigma_{k}^{-1}(r_t-\\mu_k)$ becomes  \n",
    "$(L^{-1}(r_t-\\mu_k))^T(L^{-1}(r_t-\\mu_k))$  \n",
    "We therefor find the vector $L^{-1}(r_t-\\mu_k)$ by solving $Ly=r_t-\\mu_k$, and this is numerically inexpensive because $L$ is lower triangular.  \n",
    "And because $\\text{det}(\\Sigma)=\\text{det}(LL^T)=\\text{det}(L)^2=\\prod_iL_{ii}$, so $\\text{log}(\\text{det}(\\Sigma))=\\sum_iL_{ii}$."
   ]
  },
  {
   "cell_type": "code",
   "execution_count": 2,
   "id": "084f24c2",
   "metadata": {},
   "outputs": [],
   "source": [
    "from forward_looking import *"
   ]
  },
  {
   "cell_type": "markdown",
   "id": "8f4ad026",
   "metadata": {},
   "source": [
    "Getting data"
   ]
  },
  {
   "cell_type": "code",
   "execution_count": null,
   "id": "f7ebf404",
   "metadata": {},
   "outputs": [],
   "source": []
  }
 ],
 "metadata": {
  "kernelspec": {
   "display_name": ".venv",
   "language": "python",
   "name": "python3"
  },
  "language_info": {
   "codemirror_mode": {
    "name": "ipython",
    "version": 3
   },
   "file_extension": ".py",
   "mimetype": "text/x-python",
   "name": "python",
   "nbconvert_exporter": "python",
   "pygments_lexer": "ipython3",
   "version": "3.12.3"
  }
 },
 "nbformat": 4,
 "nbformat_minor": 5
}
