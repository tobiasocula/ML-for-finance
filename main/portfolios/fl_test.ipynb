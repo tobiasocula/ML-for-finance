{
 "cells": [
  {
   "cell_type": "markdown",
   "id": "ce3d03ee",
   "metadata": {},
   "source": [
    "$b_k(r_t)=\\mathbb{P}(r_t|s_t=k)=\\phi(r_t|\\mu_k,\\Sigma_k)$  \n",
    "where $\\phi$ is the PDF of the multivariable normal distribution, or  \n",
    "$b_k(r_t)=\\frac{1}{\\sqrt{(2\\pi)^N\\text{det}(\\Sigma_k)}}\\text{exp}(-\\frac{1}{2}(r_t-\\mu_k)^T\\Sigma_{k}^{-1}(r_t-\\mu_k))$  \n",
    "However, becuase the computation for $\\Sigma_{k}^{-1}$ is numerically expensive, we will follow a different approach:  \n",
    "We will use the Cholesky decomposition for the matrix $\\Sigma$ (since this is positive-definite and symmetric), so we have $\\Sigma_k=LL^T$"
   ]
  }
 ],
 "metadata": {
  "language_info": {
   "name": "python"
  }
 },
 "nbformat": 4,
 "nbformat_minor": 5
}
